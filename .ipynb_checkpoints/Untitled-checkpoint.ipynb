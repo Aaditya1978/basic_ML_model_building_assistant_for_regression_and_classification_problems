{
 "cells": [
  {
   "cell_type": "markdown",
   "metadata": {},
   "source": [
    "___\n",
    "# This is a basic ML model buidling assistant \n",
    "___\n",
    "> developed by : Ayush Malik"
   ]
  },
  {
   "cell_type": "markdown",
   "metadata": {},
   "source": [
    "___\n",
    "# Let's import necessary Libraries\n",
    "___"
   ]
  },
  {
   "cell_type": "code",
   "execution_count": null,
   "metadata": {},
   "outputs": [],
   "source": [
    "import pandas as pd\n",
    "import numpy as np\n",
    "import matplotlib.pyplot as plt\n",
    "import seaborn as sns\n",
    "\n",
    "plt.style.use('fivethirtyeight')\n",
    "\n",
    "import plotly.offline as py\n",
    "py.init_notebook_mode(connected=True)\n",
    "import plotly.graph_objs as go\n",
    "import plotly.tools as tls\n",
    "\n",
    "import cufflinks as cf\n",
    "cf.go_offline()"
   ]
  },
  {
   "cell_type": "markdown",
   "metadata": {},
   "source": [
    "___\n",
    "# Getting the dataset from user \n",
    "___"
   ]
  },
  {
   "cell_type": "code",
   "execution_count": null,
   "metadata": {},
   "outputs": [],
   "source": [
    "dataset_name  = input(\"Enter the name of your csv file with extension :\")\n",
    "df = pd.read_csv(dataset_name)\n",
    "df.head()"
   ]
  },
  {
   "cell_type": "code",
   "execution_count": null,
   "metadata": {},
   "outputs": [],
   "source": [
    "print('_'*70)\n",
    "print('Given DataFrame has {' + str(df.shape[0]) + '} number of Observations')\n",
    "print('Given DataFrame has {' + str(df.shape[1]) + '} number of Features')\n",
    "print('_'*70)\n"
   ]
  },
  {
   "cell_type": "code",
   "execution_count": null,
   "metadata": {},
   "outputs": [],
   "source": [
    "# Null values management system (^_^)\n",
    "\n",
    "missing_values_count = df.isnull().sum().sort_values(ascending = False)\n",
    "missing_values_count = missing_values_count.head( df.shape[1] - list(missing_values_count).count(0) )\n",
    "missing_values_count = missing_values_count.to_frame().reset_index().rename( columns = {'index' : 'Column/Feature' , 0 : '%age_Null_val_count'})\n",
    "\n",
    "missing_values_count['%age_Null_val_count'] = ( missing_values_count['%age_Null_val_count'] / len(df) ) * 100\n",
    "\n",
    "Data_Types = []\n",
    "Strategy   = []\n",
    "\n",
    "for feature in missing_values_count['Column/Feature']:\n",
    "    Data_Types.append( df.dtypes[feature]  )\n",
    "    if df.dtypes[feature] == 'object':\n",
    "        Strategy.append(['mode'])\n",
    "    else:\n",
    "        Strategy.append(['mean'])\n",
    "    \n",
    "missing_values_count['Data_Type']                 = Data_Types \n",
    "missing_values_count['Strategy_that_can_be_used'] = Strategy\n",
    "\n",
    "missing_values_count.head()\n"
   ]
  },
  {
   "cell_type": "code",
   "execution_count": null,
   "metadata": {},
   "outputs": [],
   "source": [
    "# Time to drop or fill the Nan values in given features\n",
    "feature_tracker = list(missing_values_count['Column/Feature'])\n",
    "\n",
    "if int(input(\"Enter 1 if you wants to drop any features else hit 0 :\")):\n",
    "    drop_features = input('Enter the name of features sperated by space that you want to drop : ').split(\" \")\n",
    "    df.drop( drop_features , axis = 1 , inplace = True)\n",
    "\n",
    "for feat in drop_features:\n",
    "    feature_tracker.remove(feat)\n",
    "    \n",
    "for feature_name in feature_tracker :\n",
    "    strategy_given_by_user = input(\"Enter the strategy that you want to use to fill Nan value for feature { \" + feature_name + \" }\")\n",
    "    if strategy_given_by_user == 'mean':\n",
    "        df[ feature_name ] = df[ feature_name ].fillna( df[ feature_name ].mean())\n",
    "    elif strategy_given_by_user == 'mode':\n",
    "        df[ feature_name ] = df[ feature_name ].fillna( df[ feature_name ].mode())\n",
    "    elif strategy_given_by_user == 'median':\n",
    "        df[ feature_name ] = df[ feature_name ].fillna( df[ feature_name ].median())\n",
    "df.isnull().sum().sort_values(ascending = False)"
   ]
  },
  {
   "cell_type": "code",
   "execution_count": null,
   "metadata": {},
   "outputs": [],
   "source": [
    "lis = ['Cabin']"
   ]
  },
  {
   "cell_type": "code",
   "execution_count": null,
   "metadata": {},
   "outputs": [],
   "source": [
    "alll = list(missing_values_count['Column/Feature'])"
   ]
  },
  {
   "cell_type": "code",
   "execution_count": null,
   "metadata": {},
   "outputs": [],
   "source": [
    "alll"
   ]
  },
  {
   "cell_type": "code",
   "execution_count": null,
   "metadata": {},
   "outputs": [],
   "source": [
    "lis"
   ]
  },
  {
   "cell_type": "code",
   "execution_count": null,
   "metadata": {},
   "outputs": [],
   "source": [
    "df.info()\n"
   ]
  },
  {
   "cell_type": "code",
   "execution_count": null,
   "metadata": {},
   "outputs": [],
   "source": [
    "df.dtypes['Sex']"
   ]
  },
  {
   "cell_type": "code",
   "execution_count": null,
   "metadata": {},
   "outputs": [],
   "source": [
    "new = df.dtypes['Sex']\n",
    "print(new)"
   ]
  },
  {
   "cell_type": "code",
   "execution_count": null,
   "metadata": {},
   "outputs": [],
   "source": []
  },
  {
   "cell_type": "code",
   "execution_count": null,
   "metadata": {},
   "outputs": [],
   "source": [
    "# Take the output feature from user"
   ]
  },
  {
   "cell_type": "code",
   "execution_count": null,
   "metadata": {},
   "outputs": [],
   "source": [
    "# df.info"
   ]
  },
  {
   "cell_type": "code",
   "execution_count": null,
   "metadata": {},
   "outputs": [],
   "source": [
    "# Ask the user that if we automatically drop the columns or they want to manage it by their own\n",
    "# Ask the user to whether drop or retatin columns with missing values\n",
    "        # 1 Drop the unnecessary\n",
    "        # 2 Fill the columns and before filling ask the user that whether they want to select the strategy for each columns"
   ]
  },
  {
   "cell_type": "code",
   "execution_count": null,
   "metadata": {},
   "outputs": [],
   "source": [
    "# Ask whether they want to select --- regression / classification or want automation there\n",
    "# For regression use Random Forest Regressor / XGboost regressor\n",
    "# For classification use Forest Classifier / XGboost classifier / Adaboost"
   ]
  },
  {
   "cell_type": "code",
   "execution_count": null,
   "metadata": {},
   "outputs": [],
   "source": [
    "# Ask for hyperparameter optimization"
   ]
  },
  {
   "cell_type": "code",
   "execution_count": null,
   "metadata": {},
   "outputs": [],
   "source": [
    "df.Survived.value_counts()"
   ]
  },
  {
   "cell_type": "code",
   "execution_count": null,
   "metadata": {},
   "outputs": [],
   "source": []
  }
 ],
 "metadata": {
  "kernelspec": {
   "display_name": "Python 3",
   "language": "python",
   "name": "python3"
  },
  "language_info": {
   "codemirror_mode": {
    "name": "ipython",
    "version": 3
   },
   "file_extension": ".py",
   "mimetype": "text/x-python",
   "name": "python",
   "nbconvert_exporter": "python",
   "pygments_lexer": "ipython3",
   "version": "3.7.4"
  }
 },
 "nbformat": 4,
 "nbformat_minor": 2
}
